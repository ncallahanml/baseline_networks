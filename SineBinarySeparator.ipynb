{
 "cells": [
  {
   "cell_type": "code",
   "execution_count": null,
   "id": "da3e9272",
   "metadata": {},
   "outputs": [],
   "source": [
    "import matplotlib.pyplot as plt\n",
    "# import scipy.stats as st\n",
    "import seaborn as sns\n",
    "import torch.nn as nn\n",
    "import pandas as pd\n",
    "import numpy as np\n",
    "\n",
    "import itertools\n",
    "import warnings\n",
    "import torch\n",
    "\n",
    "from torch.utils.data import DataLoader, TensorDataset, Dataset\n",
    "from copy import deepcopy\n",
    "\n",
    "from wave_generator import WaveGen"
   ]
  },
  {
   "cell_type": "code",
   "execution_count": null,
   "id": "a6a189f3",
   "metadata": {},
   "outputs": [],
   "source": [
    "large_noise_wave = WaveGen(size=1_000).linear_phase().cos().amp(.5).t_noise(std=.01, dof=5).sample(1).samples.squeeze()\n",
    "small_noise_wave = WaveGen(size=1_000).linear_phase().cos().amp(.5).t_noise(std=.05, dof=5).sample(1).samples.squeeze()\n",
    "noise_wave = np.r_[large_noise_wave, small_noise_wave]"
   ]
  },
  {
   "cell_type": "code",
   "execution_count": null,
   "id": "f5935513",
   "metadata": {},
   "outputs": [],
   "source": [
    "plt.figure(figsize=(15,5))\n",
    "plt.plot(noise_wave)\n",
    "plt.show()"
   ]
  },
  {
   "cell_type": "code",
   "execution_count": 116,
   "id": "5e1bfe19",
   "metadata": {},
   "outputs": [],
   "source": [
    "class SineBinarySeparator(nn.Module):\n",
    "    def __init__(self, input_dim=2000, output_dim=2000, dropout_p=.5):\n",
    "        super(SineBinarySeparator, self).__init__()\n",
    "        self.input = nn.Linear(input_dim, output_dim)\n",
    "        self.activation = nn.ReLU()\n",
    "        self.hidden = nn.Linear(output_dim, output_dim)\n",
    "        self.dropout = nn.Dropout(p=dropout_p)\n",
    "        self.hidden2 = nn.Linear(output_dim, input_dim)\n",
    "        self.output = nn.Linear(input_dim, 1)\n",
    "        return\n",
    "        \n",
    "    def forward(self, x):\n",
    "        x = self.input(x)\n",
    "#         x = self.activation(x)\n",
    "        x = torch.where(x < 0, 0, x)\n",
    "        x = self.hidden(x)\n",
    "        x = self.activation(x)\n",
    "        x = self.dropout(x)\n",
    "        x = self.hidden2(x)\n",
    "#         with torch.no_grad():\n",
    "        hyperbolic_x = torch.tanh(x)\n",
    "        return hyperbolic_x\n",
    "#         scalar_x = self.output(x)\n",
    "#         return hyperbolic_x, scalar_x\n",
    "    \n",
    "    def stepwise_loss(self, binary_x, x):\n",
    "        with torch.no_grad():\n",
    "            above = torch.where(binary_x < 0, 0, x)\n",
    "            below = torch.where(binary_x < 0, x, 0)\n",
    "            return above.var() - below.var()\n",
    "\n",
    "    def multiple_loss(self, hyperbolic_x, x):\n",
    "        hyper_detach = hyperbolic_x.detach()\n",
    "        x_detach = x.detach()\n",
    "#         zero_tensor = torch.zeros_like(hyperbolic_x)\n",
    "        zero_up = torch.where(hyperbolic_x < 0, 1, 0)\n",
    "        zero_down = torch.where(hyperbolic_x >= 0, 1, 0)\n",
    "        up_count = torch.count_nonzero(zero_up)\n",
    "        down_count = torch.count_nonzero(zero_down)\n",
    "        x = x - x.mean()\n",
    "        x = torch.square(x)\n",
    "        up_x = x * zero_up\n",
    "        up_x = up_x.sum() / up_count\n",
    "        down_x = x * zero_down\n",
    "        down_x = down_x.sum() / down_count\n",
    "        return \n",
    "        \n",
    "    def configure_optimizer(self, **kwargs):\n",
    "        optimizer = torch.optim.RMSprop(self.parameters(), **kwargs)\n",
    "        return optimizer\n",
    "    \n",
    "    def train(self, x, epochs=1000):\n",
    "        if not hasattr(self, 'loss_items'):\n",
    "            self.loss_items = list()\n",
    "        optimizer = self.configure_optimizer()\n",
    "        criterion = nn.MSELoss()\n",
    "        for epoch in range(epochs):\n",
    "            optimizer.zero_grad()\n",
    "            hyperbolic_x = self.forward(x)\n",
    "            loss = self.multiple_loss(self, hyperbolic_x, x)\n",
    "#             loss = self.loss(hyperbolic_x.detach(), x)\n",
    "#             loss = criterion(hyperbolic_x, x)\n",
    "            loss.backward()\n",
    "            optimizer.step()\n",
    "            self.loss_items.append(loss.item())\n",
    "        return\n",
    "            \n",
    "    def plot_loss(self, step=1, title=''):\n",
    "        plt.figure(figsize=(16,8))\n",
    "        sns.lineplot(self.loss_items[::step], dashes=False, palette='Spectral', label='Variance Difference Loss')\n",
    "        plt.title(title)\n",
    "        plt.legend()\n",
    "        plt.show()\n",
    "        return"
   ]
  },
  {
   "cell_type": "code",
   "execution_count": 117,
   "id": "ca3ddf78",
   "metadata": {},
   "outputs": [
    {
     "ename": "RuntimeError",
     "evalue": "element 0 of tensors does not require grad and does not have a grad_fn",
     "output_type": "error",
     "traceback": [
      "\u001b[1;31m---------------------------------------------------------------------------\u001b[0m",
      "\u001b[1;31mRuntimeError\u001b[0m                              Traceback (most recent call last)",
      "Cell \u001b[1;32mIn[117], line 4\u001b[0m\n\u001b[0;32m      1\u001b[0m wave_tensor \u001b[38;5;241m=\u001b[39m torch\u001b[38;5;241m.\u001b[39mfrom_numpy(noise_wave)\u001b[38;5;241m.\u001b[39mfloat()\u001b[38;5;241m.\u001b[39mclone()\n\u001b[0;32m      3\u001b[0m model \u001b[38;5;241m=\u001b[39m SineBinarySeparator(input_dim\u001b[38;5;241m=\u001b[39mwave_tensor\u001b[38;5;241m.\u001b[39mshape[\u001b[38;5;241m0\u001b[39m])\u001b[38;5;241m.\u001b[39mfloat()\n\u001b[1;32m----> 4\u001b[0m \u001b[43mmodel\u001b[49m\u001b[38;5;241;43m.\u001b[39;49m\u001b[43mtrain\u001b[49m\u001b[43m(\u001b[49m\u001b[43mwave_tensor\u001b[49m\u001b[43m,\u001b[49m\u001b[43m \u001b[49m\u001b[43mepochs\u001b[49m\u001b[38;5;241;43m=\u001b[39;49m\u001b[38;5;241;43m10\u001b[39;49m\u001b[43m)\u001b[49m\n\u001b[0;32m      5\u001b[0m model\u001b[38;5;241m.\u001b[39mplot_loss()\n\u001b[0;32m      6\u001b[0m model\u001b[38;5;241m.\u001b[39mtrain(wave_tensor, epochs\u001b[38;5;241m=\u001b[39m\u001b[38;5;241m10\u001b[39m)\n",
      "Cell \u001b[1;32mIn[116], line 70\u001b[0m, in \u001b[0;36mSineBinarySeparator.train\u001b[1;34m(self, x, epochs)\u001b[0m\n\u001b[0;32m     68\u001b[0m             loss \u001b[38;5;241m=\u001b[39m \u001b[38;5;28mself\u001b[39m\u001b[38;5;241m.\u001b[39mloss(hyperbolic_x\u001b[38;5;241m.\u001b[39mdetach(), x)\n\u001b[0;32m     69\u001b[0m \u001b[38;5;66;03m#             loss = criterion(hyperbolic_x, x)\u001b[39;00m\n\u001b[1;32m---> 70\u001b[0m             \u001b[43mloss\u001b[49m\u001b[38;5;241;43m.\u001b[39;49m\u001b[43mbackward\u001b[49m\u001b[43m(\u001b[49m\u001b[43m)\u001b[49m\n\u001b[0;32m     71\u001b[0m             optimizer\u001b[38;5;241m.\u001b[39mstep()\n\u001b[0;32m     72\u001b[0m             \u001b[38;5;28mself\u001b[39m\u001b[38;5;241m.\u001b[39mloss_items\u001b[38;5;241m.\u001b[39mappend(loss\u001b[38;5;241m.\u001b[39mitem())\n",
      "File \u001b[1;32m~\\AppData\\Local\\Programs\\Python\\Python310\\lib\\site-packages\\torch\\_tensor.py:487\u001b[0m, in \u001b[0;36mTensor.backward\u001b[1;34m(self, gradient, retain_graph, create_graph, inputs)\u001b[0m\n\u001b[0;32m    477\u001b[0m \u001b[38;5;28;01mif\u001b[39;00m has_torch_function_unary(\u001b[38;5;28mself\u001b[39m):\n\u001b[0;32m    478\u001b[0m     \u001b[38;5;28;01mreturn\u001b[39;00m handle_torch_function(\n\u001b[0;32m    479\u001b[0m         Tensor\u001b[38;5;241m.\u001b[39mbackward,\n\u001b[0;32m    480\u001b[0m         (\u001b[38;5;28mself\u001b[39m,),\n\u001b[1;32m   (...)\u001b[0m\n\u001b[0;32m    485\u001b[0m         inputs\u001b[38;5;241m=\u001b[39minputs,\n\u001b[0;32m    486\u001b[0m     )\n\u001b[1;32m--> 487\u001b[0m \u001b[43mtorch\u001b[49m\u001b[38;5;241;43m.\u001b[39;49m\u001b[43mautograd\u001b[49m\u001b[38;5;241;43m.\u001b[39;49m\u001b[43mbackward\u001b[49m\u001b[43m(\u001b[49m\n\u001b[0;32m    488\u001b[0m \u001b[43m    \u001b[49m\u001b[38;5;28;43mself\u001b[39;49m\u001b[43m,\u001b[49m\u001b[43m \u001b[49m\u001b[43mgradient\u001b[49m\u001b[43m,\u001b[49m\u001b[43m \u001b[49m\u001b[43mretain_graph\u001b[49m\u001b[43m,\u001b[49m\u001b[43m \u001b[49m\u001b[43mcreate_graph\u001b[49m\u001b[43m,\u001b[49m\u001b[43m \u001b[49m\u001b[43minputs\u001b[49m\u001b[38;5;241;43m=\u001b[39;49m\u001b[43minputs\u001b[49m\n\u001b[0;32m    489\u001b[0m \u001b[43m\u001b[49m\u001b[43m)\u001b[49m\n",
      "File \u001b[1;32m~\\AppData\\Local\\Programs\\Python\\Python310\\lib\\site-packages\\torch\\autograd\\__init__.py:200\u001b[0m, in \u001b[0;36mbackward\u001b[1;34m(tensors, grad_tensors, retain_graph, create_graph, grad_variables, inputs)\u001b[0m\n\u001b[0;32m    195\u001b[0m     retain_graph \u001b[38;5;241m=\u001b[39m create_graph\n\u001b[0;32m    197\u001b[0m \u001b[38;5;66;03m# The reason we repeat same the comment below is that\u001b[39;00m\n\u001b[0;32m    198\u001b[0m \u001b[38;5;66;03m# some Python versions print out the first line of a multi-line function\u001b[39;00m\n\u001b[0;32m    199\u001b[0m \u001b[38;5;66;03m# calls in the traceback and some print out the last line\u001b[39;00m\n\u001b[1;32m--> 200\u001b[0m \u001b[43mVariable\u001b[49m\u001b[38;5;241;43m.\u001b[39;49m\u001b[43m_execution_engine\u001b[49m\u001b[38;5;241;43m.\u001b[39;49m\u001b[43mrun_backward\u001b[49m\u001b[43m(\u001b[49m\u001b[43m  \u001b[49m\u001b[38;5;66;43;03m# Calls into the C++ engine to run the backward pass\u001b[39;49;00m\n\u001b[0;32m    201\u001b[0m \u001b[43m    \u001b[49m\u001b[43mtensors\u001b[49m\u001b[43m,\u001b[49m\u001b[43m \u001b[49m\u001b[43mgrad_tensors_\u001b[49m\u001b[43m,\u001b[49m\u001b[43m \u001b[49m\u001b[43mretain_graph\u001b[49m\u001b[43m,\u001b[49m\u001b[43m \u001b[49m\u001b[43mcreate_graph\u001b[49m\u001b[43m,\u001b[49m\u001b[43m \u001b[49m\u001b[43minputs\u001b[49m\u001b[43m,\u001b[49m\n\u001b[0;32m    202\u001b[0m \u001b[43m    \u001b[49m\u001b[43mallow_unreachable\u001b[49m\u001b[38;5;241;43m=\u001b[39;49m\u001b[38;5;28;43;01mTrue\u001b[39;49;00m\u001b[43m,\u001b[49m\u001b[43m \u001b[49m\u001b[43maccumulate_grad\u001b[49m\u001b[38;5;241;43m=\u001b[39;49m\u001b[38;5;28;43;01mTrue\u001b[39;49;00m\u001b[43m)\u001b[49m\n",
      "\u001b[1;31mRuntimeError\u001b[0m: element 0 of tensors does not require grad and does not have a grad_fn"
     ]
    }
   ],
   "source": [
    "wave_tensor = torch.from_numpy(noise_wave).float().clone()\n",
    "\n",
    "model = SineBinarySeparator(input_dim=wave_tensor.shape[0]).float()\n",
    "model.train(wave_tensor, epochs=10)\n",
    "model.plot_loss()\n",
    "model.train(wave_tensor, epochs=10)\n",
    "model.plot_loss()"
   ]
  },
  {
   "cell_type": "code",
   "execution_count": null,
   "id": "c61e9dd2",
   "metadata": {},
   "outputs": [],
   "source": []
  }
 ],
 "metadata": {
  "kernelspec": {
   "display_name": "Python 3 (ipykernel)",
   "language": "python",
   "name": "python3"
  },
  "language_info": {
   "codemirror_mode": {
    "name": "ipython",
    "version": 3
   },
   "file_extension": ".py",
   "mimetype": "text/x-python",
   "name": "python",
   "nbconvert_exporter": "python",
   "pygments_lexer": "ipython3",
   "version": "3.10.10"
  }
 },
 "nbformat": 4,
 "nbformat_minor": 5
}

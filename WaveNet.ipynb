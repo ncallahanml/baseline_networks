{
 "cells": [
  {
   "cell_type": "markdown",
   "id": "4ff1ddc5",
   "metadata": {},
   "source": [
    "[Kaggle Reference (Keras)](https://www.kaggle.com/code/cdeotte/wavenet-starter-lb-0-52)"
   ]
  },
  {
   "cell_type": "code",
   "execution_count": null,
   "id": "0fd75b64",
   "metadata": {},
   "outputs": [],
   "source": [
    "import jax.numpy as jnp\n",
    "import flax.linen as ln"
   ]
  },
  {
   "cell_type": "code",
   "execution_count": null,
   "id": "8f80f448",
   "metadata": {},
   "outputs": [],
   "source": [
    "class WaveBlock(ln.Module):\n",
    "    n_features : int=64\n",
    "    kernel_size : int=1\n",
    "    n_dilations : int=4\n",
    "    \n",
    "    @ln.compact\n",
    "    def __call__(self, x):\n",
    "        x = ln.Conv(\n",
    "            self.n_features,\n",
    "            1,\n",
    "        )(x)\n",
    "        res_x = x\n",
    "        for kernel_dilation in (2**i for i in range(self.n_dilations)):\n",
    "            tanh_x = ln.Conv(\n",
    "                self.n_features, \n",
    "                self.kernel_size, \n",
    "                kernel_dilation=kernel_dilation\n",
    "            )(x)\n",
    "            tanh_x = jnp.tanh(tanh_x)\n",
    "            \n",
    "            sigm_x = ln.Conv(\n",
    "                self.n_features,\n",
    "                self.kernel_size,\n",
    "                kernel_dilation=kernel_dilation\n",
    "            )(x)\n",
    "            sigm_x = jnp.sigmoid(sigm_x)\n",
    "            x = jnp.multiply(tanh_x, sigm_x)\n",
    "            x = ln.Conv(\n",
    "                self.n_features,\n",
    "                1,\n",
    "            )(x)\n",
    "            res_x = jnp.add(res_x, x)\n",
    "        return res_x"
   ]
  },
  {
   "cell_type": "code",
   "execution_count": null,
   "id": "bc254d7e",
   "metadata": {},
   "outputs": [],
   "source": [
    "class WavePath(ln.Module):\n",
    "    kernel_size : int=3\n",
    "    init_features : int=8\n",
    "    init_dilations : int=12\n",
    "    n_blocks : int=4\n",
    "    \n",
    "    @ln.compact\n",
    "    def __call__(self, x):\n",
    "        n_features = self.init_features\n",
    "        n_dilations = self.init_dilations\n",
    "        for _ in range(self.n_blocks):\n",
    "            x = WaveBlock(n_features, self.kernel_size, n_dilations)(x)\n",
    "            n_features *= 2\n",
    "            n_dilations = max(1, n_dilations - 4)\n",
    "        return x"
   ]
  },
  {
   "cell_type": "code",
   "execution_count": null,
   "id": "90db8156",
   "metadata": {},
   "outputs": [],
   "source": [
    "class WaveNet(ln.Module):\n",
    "    *args : tuple\n",
    "    **kwargs : dict\n",
    "    \n",
    "    @ln.compact\n",
    "    def __call__(self, x):\n",
    "        wave_path = WavePath(*args, **kwargs)\n",
    "    zs = [\n",
    "        jnp.mean([\n",
    "            jnp.mean(wavenet(x[:,:,i;i+1]), axis=-1),\n",
    "            jnp.mean(wavenet(x[:,:,i+1:i+2]), axis=-1)\n",
    "        ])\n",
    "        for i\n",
    "        in range(0, 8, 2)\n",
    "    ]\n",
    "    y = jnp.concatenate(zs)\n",
    "    y = ln.Dense(64)(y)\n",
    "    y = jnp.relu(y)\n",
    "    y = ln.Dense(6)\n",
    "    y = jnp.relu(y)\n",
    "    return y"
   ]
  }
 ],
 "metadata": {
  "kernelspec": {
   "display_name": "Python 3 (ipykernel)",
   "language": "python",
   "name": "python3"
  },
  "language_info": {
   "codemirror_mode": {
    "name": "ipython",
    "version": 3
   },
   "file_extension": ".py",
   "mimetype": "text/x-python",
   "name": "python",
   "nbconvert_exporter": "python",
   "pygments_lexer": "ipython3",
   "version": "3.10.10"
  }
 },
 "nbformat": 4,
 "nbformat_minor": 5
}

{
 "cells": [
  {
   "cell_type": "markdown",
   "id": "94196490",
   "metadata": {},
   "source": [
    "[Kaggle Reference (Keras)](https://www.kaggle.com/code/cdeotte/wavenet-starter-lb-0-52)"
   ]
  },
  {
   "cell_type": "code",
   "execution_count": 1,
   "id": "7e36f721",
   "metadata": {},
   "outputs": [],
   "source": [
    "import jax.numpy as jnp\n",
    "import flax.linen as ln"
   ]
  },
  {
   "cell_type": "code",
   "execution_count": 2,
   "id": "f9f6fd30",
   "metadata": {},
   "outputs": [],
   "source": [
    "class WaveBlock(ln.Module):\n",
    "    n_features : int=64\n",
    "    kernel_size : int=1\n",
    "    n_dilations : int=4\n",
    "    \n",
    "    @ln.compact\n",
    "    def __call__(self, x):\n",
    "        x = ln.Conv(\n",
    "            self.n_features,\n",
    "            1,\n",
    "        )(x)\n",
    "        res_x = x\n",
    "        for kernel_dilation in (2**i for i in range(self.n_dilations)):\n",
    "            # gating ###########################\n",
    "            tanh_x = ln.Conv(\n",
    "                self.n_features, \n",
    "                self.kernel_size, \n",
    "                kernel_dilation=kernel_dilation\n",
    "            )(x)\n",
    "            tanh_x = jnp.tanh(tanh_x)\n",
    "            \n",
    "            sigm_x = ln.Conv(\n",
    "                self.n_features,\n",
    "                self.kernel_size,\n",
    "                kernel_dilation=kernel_dilation\n",
    "            )(x)\n",
    "            sigm_x = jnp.sigmoid(sigm_x)\n",
    "            \n",
    "            x = jnp.multiply(tanh_x, sigm_x)\n",
    "            ###################################\n",
    "            x = ln.Conv(\n",
    "                self.n_features,\n",
    "                1,\n",
    "            )(x)\n",
    "            res_x = jnp.add(res_x, x)\n",
    "        return res_x"
   ]
  },
  {
   "cell_type": "code",
   "execution_count": 3,
   "id": "1ba9af5b",
   "metadata": {},
   "outputs": [],
   "source": [
    "class WavePath(ln.Module):\n",
    "    kernel_size : int=3\n",
    "    init_features : int=8\n",
    "    init_dilations : int=12\n",
    "    n_blocks : int=4\n",
    "    \n",
    "    @ln.compact\n",
    "    def __call__(self, x):\n",
    "        n_features = self.init_features\n",
    "        n_dilations = self.init_dilations\n",
    "        for _ in range(self.n_blocks):\n",
    "            x = WaveBlock(n_features, self.kernel_size, n_dilations)(x)\n",
    "            n_features *= 2\n",
    "            n_dilations = max(1, n_dilations - 4)\n",
    "        return x"
   ]
  },
  {
   "cell_type": "code",
   "execution_count": 6,
   "id": "432a0c8a",
   "metadata": {},
   "outputs": [],
   "source": [
    "class WaveNet(ln.Module):\n",
    "    embed : bool=False\n",
    "    output_size : int=1\n",
    "    feature_group_size : int=2\n",
    "    dense_size : int=64\n",
    "    path_kwargs : dict=dict()\n",
    "    \n",
    "    @ln.compact\n",
    "    def __call__(self, x):\n",
    "        wave_path = WavePath(**self.path_kwargs)\n",
    "        n_features = x.shape[-1]\n",
    "        \n",
    "        remainder = n_features % self.feature_group_size\n",
    "        if remainder:\n",
    "            raise ValueError(f\"\"\"\n",
    "                Expected number of features to be divisible by {self.feature_group_size}, \n",
    "                got {n_features} from shape {x.shape}, leaving nonzero remainder {remainder}\n",
    "            \"\"\")\n",
    "        zs = [\n",
    "            jnp.mean([\n",
    "                jnp.mean(wavenet(x[...,[i+j]]), axis=-1)\n",
    "                for j\n",
    "                in range(0, self.feature_group_size, 1)\n",
    "            ])\n",
    "            for i\n",
    "            in range(0, n_features, self.feature_group_size)\n",
    "        ]\n",
    "        y = jnp.concatenate(zs)\n",
    "        if not self.embed:\n",
    "            y = ln.Dense(self.dense_size)(y)\n",
    "            y = jnp.relu(y)\n",
    "            y = ln.Dense(self.output_size)\n",
    "            y = jnp.relu(y)\n",
    "        return y"
   ]
  }
 ],
 "metadata": {
  "kernelspec": {
   "display_name": "Python 3 (ipykernel)",
   "language": "python",
   "name": "python3"
  },
  "language_info": {
   "codemirror_mode": {
    "name": "ipython",
    "version": 3
   },
   "file_extension": ".py",
   "mimetype": "text/x-python",
   "name": "python",
   "nbconvert_exporter": "python",
   "pygments_lexer": "ipython3",
   "version": "3.10.10"
  }
 },
 "nbformat": 4,
 "nbformat_minor": 5
}
